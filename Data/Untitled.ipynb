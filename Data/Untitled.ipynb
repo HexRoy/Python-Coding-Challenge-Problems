{
 "cells": [
  {
   "cell_type": "code",
   "execution_count": 1,
   "metadata": {},
   "outputs": [],
   "source": [
    "import pandas as pd\n",
    "import numpy as np\n"
   ]
  },
  {
   "cell_type": "code",
   "execution_count": 2,
   "metadata": {},
   "outputs": [],
   "source": [
    "\n",
    "sales = pd.read_csv(\n",
    "    'Data/general_store_sample_data.csv')\n"
   ]
  },
  {
   "cell_type": "markdown",
   "metadata": {},
   "source": [
    "## Looking at only the United States, France, and Spain, what was the median revenue in 2013? (Taking the three countries together in aggregate)  "
   ]
  },
  {
   "cell_type": "code",
   "execution_count": 10,
   "metadata": {},
   "outputs": [
    {
     "name": "stdout",
     "output_type": "stream",
     "text": [
      "       product_group country  year        revenue\n",
      "13        automobile      ES  2013  193957.392701\n",
      "16        automobile      FR  2013  197659.861858\n",
      "22        automobile      US  2013  198326.241130\n",
      "43          clothing      ES  2013    3112.439556\n",
      "46          clothing      FR  2013    3346.136628\n",
      "52          clothing      US  2013    1926.057675\n",
      "73       electronics      ES  2013   20348.102661\n",
      "76       electronics      FR  2013   19615.283429\n",
      "82       electronics      US  2013   19824.931554\n",
      "103        furniture      ES  2013   20932.974245\n",
      "106        furniture      FR  2013   19032.585917\n",
      "112        furniture      US  2013   20146.534817\n",
      "133        groceries      ES  2013  203526.211415\n",
      "136        groceries      FR  2013  223017.380291\n",
      "142        groceries      US  2013  167057.544454\n",
      "163  office supplies      ES  2013  191076.730457\n",
      "166  office supplies      FR  2013  209669.100729\n",
      "172  office supplies      US  2013  207829.132649\n"
     ]
    }
   ],
   "source": [
    "x = sales.loc[((sales['country'] == 'US') | (sales['country'] == 'FR') | (sales['country'] == 'ES')) & (sales['year'] == 2013)]\n",
    "print(x)"
   ]
  },
  {
   "cell_type": "code",
   "execution_count": 6,
   "metadata": {
    "scrolled": true
   },
   "outputs": [
    {
     "name": "stdout",
     "output_type": "stream",
     "text": [
      "93995.25934923755\n"
     ]
    }
   ],
   "source": [
    "print(x['revenue'].median())\n"
   ]
  },
  {
   "cell_type": "markdown",
   "metadata": {},
   "source": [
    "## Was it more or less than 2012? "
   ]
  },
  {
   "cell_type": "code",
   "execution_count": 7,
   "metadata": {
    "scrolled": false
   },
   "outputs": [
    {
     "name": "stdout",
     "output_type": "stream",
     "text": [
      "       product_group country  year        revenue\n",
      "12        automobile      ES  2012  200855.769705\n",
      "15        automobile      FR  2012  190734.681478\n",
      "21        automobile      US  2012  201789.701386\n",
      "42          clothing      ES  2012    1081.705380\n",
      "45          clothing      FR  2012    1873.328854\n",
      "51          clothing      US  2012    1865.099225\n",
      "72       electronics      ES  2012   19505.467477\n",
      "75       electronics      FR  2012   20352.772353\n",
      "81       electronics      US  2012   20175.308824\n",
      "102        furniture      ES  2012   19799.618154\n",
      "105        furniture      FR  2012   21392.753665\n",
      "111        furniture      US  2012   19864.197324\n",
      "132        groceries      ES  2012  147368.003437\n",
      "135        groceries      FR  2012  238991.336675\n",
      "141        groceries      US  2012  208650.102119\n",
      "162  office supplies      ES  2012  206106.329950\n",
      "165  office supplies      FR  2012  201274.506404\n",
      "171  office supplies      US  2012  207157.981951\n"
     ]
    }
   ],
   "source": [
    "y = sales.loc[((sales['country'] == 'US') | (sales['country'] == 'FR') | (sales['country'] == 'ES')) & (sales['year'] == 2012)]\n",
    "print(y)"
   ]
  },
  {
   "cell_type": "code",
   "execution_count": 32,
   "metadata": {
    "scrolled": true
   },
   "outputs": [
    {
     "name": "stdout",
     "output_type": "stream",
     "text": [
      "2013: 93995.25934923755\n",
      "2012: 84380.378550825\n"
     ]
    }
   ],
   "source": [
    "print('2013:', x['revenue'].median())\n",
    "print('2012:', y['revenue'].median())"
   ]
  },
  {
   "cell_type": "markdown",
   "metadata": {},
   "source": [
    "## What drove that difference?  "
   ]
  },
  {
   "cell_type": "markdown",
   "metadata": {},
   "source": [
    "#### Automobile revenue"
   ]
  },
  {
   "cell_type": "code",
   "execution_count": 18,
   "metadata": {},
   "outputs": [
    {
     "name": "stdout",
     "output_type": "stream",
     "text": [
      "13    193957.392701\n",
      "16    197659.861858\n",
      "22    198326.241130\n",
      "Name: revenue, dtype: float64\n"
     ]
    }
   ],
   "source": [
    "print(x.loc[x['product_group'] == 'automobile', 'revenue'])"
   ]
  },
  {
   "cell_type": "code",
   "execution_count": 19,
   "metadata": {},
   "outputs": [
    {
     "name": "stdout",
     "output_type": "stream",
     "text": [
      "12    200855.769705\n",
      "15    190734.681478\n",
      "21    201789.701386\n",
      "Name: revenue, dtype: float64\n"
     ]
    }
   ],
   "source": [
    "print(y.loc[y['product_group'] == 'automobile', 'revenue'])"
   ]
  },
  {
   "cell_type": "markdown",
   "metadata": {},
   "source": [
    "#### Clothing revenue"
   ]
  },
  {
   "cell_type": "code",
   "execution_count": 21,
   "metadata": {},
   "outputs": [
    {
     "name": "stdout",
     "output_type": "stream",
     "text": [
      "43    3112.439556\n",
      "46    3346.136628\n",
      "52    1926.057675\n",
      "Name: revenue, dtype: float64\n"
     ]
    }
   ],
   "source": [
    "print(x.loc[x['product_group'] == 'clothing', 'revenue'])"
   ]
  },
  {
   "cell_type": "code",
   "execution_count": 22,
   "metadata": {},
   "outputs": [
    {
     "name": "stdout",
     "output_type": "stream",
     "text": [
      "42    1081.705380\n",
      "45    1873.328854\n",
      "51    1865.099225\n",
      "Name: revenue, dtype: float64\n"
     ]
    }
   ],
   "source": [
    "print(y.loc[y['product_group'] == 'clothing', 'revenue'])"
   ]
  },
  {
   "cell_type": "markdown",
   "metadata": {},
   "source": [
    "#### Electronics revenue"
   ]
  },
  {
   "cell_type": "code",
   "execution_count": 23,
   "metadata": {},
   "outputs": [
    {
     "name": "stdout",
     "output_type": "stream",
     "text": [
      "73    20348.102661\n",
      "76    19615.283429\n",
      "82    19824.931554\n",
      "Name: revenue, dtype: float64\n"
     ]
    }
   ],
   "source": [
    "print(x.loc[x['product_group'] == 'electronics', 'revenue'])"
   ]
  },
  {
   "cell_type": "code",
   "execution_count": 24,
   "metadata": {},
   "outputs": [
    {
     "name": "stdout",
     "output_type": "stream",
     "text": [
      "72    19505.467477\n",
      "75    20352.772353\n",
      "81    20175.308824\n",
      "Name: revenue, dtype: float64\n"
     ]
    }
   ],
   "source": [
    "print(y.loc[y['product_group'] == 'electronics', 'revenue'])"
   ]
  },
  {
   "cell_type": "markdown",
   "metadata": {},
   "source": [
    "#### Furniture revenue"
   ]
  },
  {
   "cell_type": "code",
   "execution_count": 25,
   "metadata": {},
   "outputs": [
    {
     "name": "stdout",
     "output_type": "stream",
     "text": [
      "103    20932.974245\n",
      "106    19032.585917\n",
      "112    20146.534817\n",
      "Name: revenue, dtype: float64\n"
     ]
    }
   ],
   "source": [
    "print(x.loc[x['product_group'] == 'furniture', 'revenue'])"
   ]
  },
  {
   "cell_type": "code",
   "execution_count": 26,
   "metadata": {},
   "outputs": [
    {
     "name": "stdout",
     "output_type": "stream",
     "text": [
      "102    19799.618154\n",
      "105    21392.753665\n",
      "111    19864.197324\n",
      "Name: revenue, dtype: float64\n"
     ]
    }
   ],
   "source": [
    "print(y.loc[y['product_group'] == 'furniture', 'revenue'])"
   ]
  },
  {
   "cell_type": "markdown",
   "metadata": {},
   "source": [
    "#### Groceries revenue"
   ]
  },
  {
   "cell_type": "code",
   "execution_count": 27,
   "metadata": {
    "scrolled": true
   },
   "outputs": [
    {
     "name": "stdout",
     "output_type": "stream",
     "text": [
      "133    203526.211415\n",
      "136    223017.380291\n",
      "142    167057.544454\n",
      "Name: revenue, dtype: float64\n"
     ]
    }
   ],
   "source": [
    "print(x.loc[x['product_group'] == 'groceries', 'revenue'])"
   ]
  },
  {
   "cell_type": "code",
   "execution_count": 28,
   "metadata": {},
   "outputs": [
    {
     "name": "stdout",
     "output_type": "stream",
     "text": [
      "132    147368.003437\n",
      "135    238991.336675\n",
      "141    208650.102119\n",
      "Name: revenue, dtype: float64\n"
     ]
    }
   ],
   "source": [
    "print(y.loc[y['product_group'] == 'groceries', 'revenue'])"
   ]
  },
  {
   "cell_type": "markdown",
   "metadata": {},
   "source": [
    "#### Office supplies revenue"
   ]
  },
  {
   "cell_type": "code",
   "execution_count": 29,
   "metadata": {},
   "outputs": [
    {
     "name": "stdout",
     "output_type": "stream",
     "text": [
      "163    191076.730457\n",
      "166    209669.100729\n",
      "172    207829.132649\n",
      "Name: revenue, dtype: float64\n"
     ]
    }
   ],
   "source": [
    "print(x.loc[x['product_group'] == 'office supplies', 'revenue'])"
   ]
  },
  {
   "cell_type": "code",
   "execution_count": 30,
   "metadata": {},
   "outputs": [
    {
     "name": "stdout",
     "output_type": "stream",
     "text": [
      "162    206106.329950\n",
      "165    201274.506404\n",
      "171    207157.981951\n",
      "Name: revenue, dtype: float64\n"
     ]
    }
   ],
   "source": [
    "print(y.loc[y['product_group'] == 'office supplies', 'revenue'])"
   ]
  },
  {
   "cell_type": "code",
   "execution_count": null,
   "metadata": {},
   "outputs": [],
   "source": []
  }
 ],
 "metadata": {
  "kernelspec": {
   "display_name": "Python 3",
   "language": "python",
   "name": "python3"
  },
  "language_info": {
   "codemirror_mode": {
    "name": "ipython",
    "version": 3
   },
   "file_extension": ".py",
   "mimetype": "text/x-python",
   "name": "python",
   "nbconvert_exporter": "python",
   "pygments_lexer": "ipython3",
   "version": "3.6.11"
  }
 },
 "nbformat": 4,
 "nbformat_minor": 4
}
